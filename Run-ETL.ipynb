{
 "cells": [
  {
   "cell_type": "markdown",
   "metadata": {},
   "source": [
    "## Exract Transform Load\n",
    "Use this notebook to run the ETL pipeline that transfers song & log data files in two local directories into tables in Postgres using Python and SQL"
   ]
  },
  {
   "cell_type": "markdown",
   "metadata": {},
   "source": [
    "#### Create Tables\n",
    "Ensures clean Postgres database, connection and create tables. "
   ]
  },
  {
   "cell_type": "code",
   "execution_count": 200,
   "metadata": {
    "collapsed": false
   },
   "outputs": [
    {
     "name": "stdout",
     "output_type": "stream",
     "text": [
      "CPU times: user 62.3 ms, sys: 31.9 ms, total: 94.2 ms\n",
      "Wall time: 2.74 s\n"
     ]
    }
   ],
   "source": [
    "%%time\n",
    "\n",
    "!python create_tables.py"
   ]
  },
  {
   "cell_type": "markdown",
   "metadata": {},
   "source": [
    "#### ETL Pipeline\n",
    "Extract (Read song & log datafiles), Transform (Process information) & Load(insert data into  tables)."
   ]
  },
  {
   "cell_type": "code",
   "execution_count": 201,
   "metadata": {
    "collapsed": false
   },
   "outputs": [
    {
     "name": "stdout",
     "output_type": "stream",
     "text": [
      "CPU times: user 175 ms, sys: 74.9 ms, total: 249 ms\n",
      "Wall time: 7.25 s\n"
     ]
    }
   ],
   "source": [
    "%%time\n",
    "\n",
    "!python etl.py"
   ]
  },
  {
   "cell_type": "markdown",
   "metadata": {},
   "source": [
    "#### Test \n",
    "Test, Debug & Query Database"
   ]
  },
  {
   "cell_type": "code",
   "execution_count": null,
   "metadata": {
    "collapsed": false
   },
   "outputs": [],
   "source": [
    "def table_count(table):\n",
    "    SQL_QUERY = \"\"\"\n",
    "        select count(*) from {}\n",
    "        \"\"\".format(table)\n",
    "    results = %sql $SQL_QUERY\n",
    "    return results\n",
    "\n",
    "def table_head(table, num_rows, order_by=1):\n",
    "    SQL_QUERY = \"\"\"\n",
    "        select * from {}\n",
    "        order by {}\n",
    "        limit {}\n",
    "        \"\"\".format(table, order_by, num_rows)\n",
    "    results = %sql $SQL_QUERY\n",
    "    return results\n",
    "\n",
    "def table_distribution(table):\n",
    "    SQL_QUERY = \"\"\"\n",
    "        select slice, col, num_values as rows\n",
    "        from svv_diskusage\n",
    "        where name='{}' and col=0 and rows>0\n",
    "        order by slice, col\n",
    "        \"\"\".format(table)\n",
    "    results = %sql $SQL_QUERY\n",
    "    return results"
   ]
  },
  {
   "cell_type": "code",
   "execution_count": null,
   "metadata": {
    "collapsed": false
   },
   "outputs": [],
   "source": [
    "table_count('times')"
   ]
  },
  {
   "cell_type": "code",
   "execution_count": null,
   "metadata": {
    "collapsed": false
   },
   "outputs": [],
   "source": [
    "table_head('times', 3, 'dt desc')"
   ]
  },
  {
   "cell_type": "code",
   "execution_count": null,
   "metadata": {
    "collapsed": false
   },
   "outputs": [],
   "source": [
    "table_distribution('songplays')"
   ]
  },
  {
   "cell_type": "code",
   "execution_count": null,
   "metadata": {
    "collapsed": true
   },
   "outputs": [],
   "source": []
  }
 ],
 "metadata": {
  "anaconda-cloud": {},
  "kernelspec": {
   "display_name": "Python [conda env:DAND]",
   "language": "python",
   "name": "conda-env-DAND-py"
  },
  "language_info": {
   "codemirror_mode": {
    "name": "ipython",
    "version": 2
   },
   "file_extension": ".py",
   "mimetype": "text/x-python",
   "name": "python",
   "nbconvert_exporter": "python",
   "pygments_lexer": "ipython2",
   "version": "2.7.12"
  }
 },
 "nbformat": 4,
 "nbformat_minor": 4
}
