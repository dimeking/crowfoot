{
 "cells": [
  {
   "cell_type": "markdown",
   "metadata": {
    "collapsed": true
   },
   "source": [
    "# Cloud Data Warehouse with Amazon Redshift \n",
    "Hari Raja (May 7 2020)"
   ]
  },
  {
   "cell_type": "markdown",
   "metadata": {},
   "source": [
    "## Exract Transform Load\n",
    "Use this notebook to: \n",
    "- Run the ETL pipeline that transfers song & log data files from two S3 locations into staging tables in AWS Redshift Cluster DB \n",
    "- Converts relevant data into dimension & fact tables using Python and SQL\n",
    "- Run pouplar queries to understand the Sparkify Users"
   ]
  },
  {
   "cell_type": "markdown",
   "metadata": {},
   "source": [
    "### Create Tables\n",
    "Ensures clean AWS Redshift Cluster database, connection and create tables."
   ]
  },
  {
   "cell_type": "code",
   "execution_count": 2,
   "metadata": {
    "collapsed": false
   },
   "outputs": [
    {
     "name": "stdout",
     "output_type": "stream",
     "text": [
      "CPU times: user 54.8 ms, sys: 27.7 ms, total: 82.5 ms\n",
      "Wall time: 2.59 s\n"
     ]
    }
   ],
   "source": [
    "%%time\n",
    "\n",
    "!python create_tables.py"
   ]
  },
  {
   "cell_type": "markdown",
   "metadata": {},
   "source": [
    "### ETL Pipeline\n",
    "- Extract (Copy song & log datafiles from S3 onto staging tables on Redshift). \n",
    "\n",
    "- Transform & Load (Create Fact-Dimension Tables and Insert data).\n",
    "\n",
    "Go for Coffee Break (S3 to RedShift takes 50min on a 4-node dc2.large Cluster)"
   ]
  },
  {
   "cell_type": "code",
   "execution_count": null,
   "metadata": {
    "collapsed": false
   },
   "outputs": [],
   "source": [
    "%%time\n",
    "\n",
    "!python etl.py"
   ]
  },
  {
   "cell_type": "markdown",
   "metadata": {},
   "source": [
    "### Queries\n",
    "Query Sparkify Music Database"
   ]
  },
  {
   "cell_type": "code",
   "execution_count": null,
   "metadata": {
    "collapsed": true
   },
   "outputs": [],
   "source": [
    "import configparser\n",
    "config = configparser.ConfigParser()\n",
    "config.read_file(open('dwh.cfg'))\n",
    "\n",
    "DB_NAME            = config.get('CLUSTER','DB_NAME')\n",
    "DB_USER            = config.get('CLUSTER','DB_USER')\n",
    "DB_PASSWORD         = config.get('CLUSTER','DB_PASSWORD')\n",
    "DB_PORT            = config.get('CLUSTER','DB_PORT')\n",
    "HOST            = config.get('CLUSTER','HOST')\n",
    "\n",
    "%load_ext sql\n",
    "\n",
    "conn_string=\"postgresql://{}:{}@{}:{}/{}\".format(DB_USER, DB_PASSWORD, HOST, DB_PORT,DB_NAME)\n",
    "print(conn_string)\n",
    "%sql $conn_string"
   ]
  },
  {
   "cell_type": "markdown",
   "metadata": {},
   "source": [
    "#### QUERY for \"Top 5 Popular Artists\""
   ]
  },
  {
   "cell_type": "code",
   "execution_count": null,
   "metadata": {
    "collapsed": true
   },
   "outputs": [],
   "source": [
    "%%time\n",
    "%%sql\n",
    "\n",
    "SELECT a.artist_id, a.name, COUNT(sp.songplay_id) \n",
    "FROM songplays sp\n",
    "JOIN artists a ON a.artist_id=sp.artist_id\n",
    "GROUP BY 1,2\n",
    "ORDER BY 3 DESC\n",
    "LIMIT 5"
   ]
  },
  {
   "cell_type": "markdown",
   "metadata": {},
   "source": [
    "#### QUERY for \"Top 5 Popular Songs\""
   ]
  },
  {
   "cell_type": "code",
   "execution_count": null,
   "metadata": {
    "collapsed": true
   },
   "outputs": [],
   "source": [
    "%%time\n",
    "%%sql\n",
    "\n",
    "SELECT sp.song_id, s.title, COUNT(sp.songplay_id) \n",
    "FROM songplays sp\n",
    "JOIN songs s ON s.song_id=sp.song_id\n",
    "GROUP BY 1,2\n",
    "ORDER BY 3 DESC\n",
    "LIMIT 5"
   ]
  },
  {
   "cell_type": "markdown",
   "metadata": {},
   "source": [
    "#### QUERY for \"Top 5 Active Users\""
   ]
  },
  {
   "cell_type": "code",
   "execution_count": null,
   "metadata": {
    "collapsed": true
   },
   "outputs": [],
   "source": [
    "%%time\n",
    "%%sql\n",
    "\n",
    "SELECT u.user_id, u.first_name, u.last_name, sp.location, COUNT(sp.songplay_id) \n",
    "FROM songplays sp\n",
    "JOIN users u ON u.user_id=sp.user_id\n",
    "GROUP BY 1,2,3,4\n",
    "ORDER BY 5 DESC\n",
    "LIMIT 5"
   ]
  },
  {
   "cell_type": "markdown",
   "metadata": {},
   "source": [
    "#### QUERY for \"Top 5 Play Locations\""
   ]
  },
  {
   "cell_type": "code",
   "execution_count": null,
   "metadata": {
    "collapsed": true
   },
   "outputs": [],
   "source": [
    "%%time\n",
    "%%sql\n",
    "\n",
    "SELECT sp.location, COUNT(sp.songplay_id) \n",
    "FROM songplays sp\n",
    "GROUP BY 1\n",
    "ORDER BY 2 DESC\n",
    "LIMIT 5"
   ]
  },
  {
   "cell_type": "code",
   "execution_count": null,
   "metadata": {
    "collapsed": true
   },
   "outputs": [],
   "source": []
  }
 ],
 "metadata": {
  "anaconda-cloud": {},
  "kernelspec": {
   "display_name": "Python [conda env:DAND]",
   "language": "python",
   "name": "conda-env-DAND-py"
  },
  "language_info": {
   "codemirror_mode": {
    "name": "ipython",
    "version": 2
   },
   "file_extension": ".py",
   "mimetype": "text/x-python",
   "name": "python",
   "nbconvert_exporter": "python",
   "pygments_lexer": "ipython2",
   "version": "2.7.12"
  }
 },
 "nbformat": 4,
 "nbformat_minor": 4
}
